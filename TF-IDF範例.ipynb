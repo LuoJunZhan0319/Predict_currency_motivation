{
 "cells": [
  {
   "cell_type": "code",
   "execution_count": 1,
   "metadata": {},
   "outputs": [],
   "source": [
    "import nltk\n",
    "import math\n",
    "import string\n",
    "from nltk.corpus import stopwords\n",
    "from collections import Counter\n",
    "from nltk.stem.porter import *\n",
    "from sklearn.feature_extraction.text import TfidfVectorizer\n",
    "\n",
    "text1 = \"Python is a 2000 made-for-TV horror movie directed by Richard \\\n",
    "Clabaugh. The film features several cult favorite actors, including William \\\n",
    "Zabka of The Karate Kid fame, Wil Wheaton, Casper Van Dien, Jenny McCarthy, \\\n",
    "Keith Coogan, Robert Englund (best known for his role as Freddy Krueger in the \\\n",
    "A Nightmare on Elm Street series of films), Dana Barron, David Bowe, and Sean \\\n",
    "Whalen. The film concerns a genetically engineered snake, a python, that \\\n",
    "escapes and unleashes itself on a small town. It includes the classic final\\\n",
    "girl scenario evident in films like Friday the 13th. It was filmed in Los Angeles, \\\n",
    "California and Malibu, California. Python was followed by two sequels: Python \\\n",
    "II (2002) and Boa vs. Python (2004), both also made-for-TV films.\"\n",
    "\n",
    "text2 = \"Python, from the Greek word (πύθων/πύθωνας), is a genus of \\\n",
    "nonvenomous pythons[2] found in Africa and Asia. Currently, 7 species are \\\n",
    "recognised.[2] A member of this genus, P. reticulatus, is among the longest \\\n",
    "snakes known.\"\n",
    "\n",
    "text3 = \"The Colt Python is a .357 Magnum caliber revolver formerly \\\n",
    "manufactured by Colt's Manufacturing Company of Hartford, Connecticut. \\\n",
    "It is sometimes referred to as a \\\"Combat Magnum\\\".[1] It was first introduced \\\n",
    "in 1955, the same year as Smith & Wesson's M29 .44 Magnum. The now discontinued \\\n",
    "Colt Python targeted the premium revolver market segment. Some firearm \\\n",
    "collectors and writers such as Jeff Cooper, Ian V. Hogg, Chuck Hawks, Leroy \\\n",
    "Thompson, Renee Smeets and Martin Dougherty have described the Python as the \\\n",
    "finest production revolver ever made.\""
   ]
  },
  {
   "cell_type": "code",
   "execution_count": 3,
   "metadata": {},
   "outputs": [],
   "source": [
    "#斷詞方法,並移除標點符號\n",
    "def get_tokens(text):\n",
    "    lowers = text.lower()\n",
    "#remove the punctuation using the character deletion step of translate\n",
    "    remove_punctuation_map = dict((ord(char), None) for char in string.punctuation)\n",
    "    no_punctuation = lowers.translate(remove_punctuation_map)\n",
    "    tokens = nltk.word_tokenize(no_punctuation)\n",
    "    return tokens"
   ]
  },
  {
   "cell_type": "code",
   "execution_count": 19,
   "metadata": {},
   "outputs": [
    {
     "name": "stdout",
     "output_type": "stream",
     "text": [
      "#斷詞結果: \n",
      " ['python', 'is', 'a', '2000', 'madefortv', 'horror', 'movie', 'directed', 'by', 'richard', 'clabaugh', 'the', 'film', 'features', 'several', 'cult', 'favorite', 'actors', 'including', 'william', 'zabka', 'of', 'the', 'karate', 'kid', 'fame', 'wil', 'wheaton', 'casper', 'van', 'dien', 'jenny', 'mccarthy', 'keith', 'coogan', 'robert', 'englund', 'best', 'known', 'for', 'his', 'role', 'as', 'freddy', 'krueger', 'in', 'the', 'a', 'nightmare', 'on', 'elm', 'street', 'series', 'of', 'films', 'dana', 'barron', 'david', 'bowe', 'and', 'sean', 'whalen', 'the', 'film', 'concerns', 'a', 'genetically', 'engineered', 'snake', 'a', 'python', 'that', 'escapes', 'and', 'unleashes', 'itself', 'on', 'a', 'small', 'town', 'it', 'includes', 'the', 'classic', 'finalgirl', 'scenario', 'evident', 'in', 'films', 'like', 'friday', 'the', '13th', 'it', 'was', 'filmed', 'in', 'los', 'angeles', 'california', 'and', 'malibu', 'california', 'python', 'was', 'followed', 'by', 'two', 'sequels', 'python', 'ii', '2002', 'and', 'boa', 'vs', 'python', '2004', 'both', 'also', 'madefortv', 'films'] \n",
      "\n",
      "#詞頻: \n",
      " [('the', 6), ('python', 5), ('a', 5), ('and', 4), ('in', 3), ('films', 3), ('madefortv', 2), ('by', 2), ('film', 2), ('of', 2)] \n",
      "\n"
     ]
    }
   ],
   "source": [
    "tokens = get_tokens(text1)\n",
    "print(\"#斷詞結果: \\n\", tokens , \"\\n\")\n",
    "\n",
    "#計數器\n",
    "count = Counter(tokens)\n",
    "print (\"#詞頻: \\n\", count.most_common(10) , \"\\n\")\n"
   ]
  },
  {
   "cell_type": "code",
   "execution_count": 14,
   "metadata": {},
   "outputs": [],
   "source": [
    "#詞幹還原方法\n",
    "def stem_tokens(tokens, stemmer):\n",
    "    stemmed = []\n",
    "    for item in tokens:\n",
    "        stemmed.append(stemmer.stem(item))\n",
    "    return stemmed"
   ]
  },
  {
   "cell_type": "code",
   "execution_count": 18,
   "metadata": {},
   "outputs": [
    {
     "name": "stdout",
     "output_type": "stream",
     "text": [
      "結果顯示: \n",
      " Counter({'python': 5, 'films': 3, 'madefortv': 2, 'film': 2, 'california': 2, '2000': 1, 'horror': 1, 'movie': 1, 'directed': 1, 'richard': 1, 'clabaugh': 1, 'features': 1, 'several': 1, 'cult': 1, 'favorite': 1, 'actors': 1, 'including': 1, 'william': 1, 'zabka': 1, 'karate': 1, 'kid': 1, 'fame': 1, 'wil': 1, 'wheaton': 1, 'casper': 1, 'van': 1, 'dien': 1, 'jenny': 1, 'mccarthy': 1, 'keith': 1, 'coogan': 1, 'robert': 1, 'englund': 1, 'best': 1, 'known': 1, 'role': 1, 'freddy': 1, 'krueger': 1, 'nightmare': 1, 'elm': 1, 'street': 1, 'series': 1, 'dana': 1, 'barron': 1, 'david': 1, 'bowe': 1, 'sean': 1, 'whalen': 1, 'concerns': 1, 'genetically': 1, 'engineered': 1, 'snake': 1, 'escapes': 1, 'unleashes': 1, 'small': 1, 'town': 1, 'includes': 1, 'classic': 1, 'finalgirl': 1, 'scenario': 1, 'evident': 1, 'like': 1, 'friday': 1, '13th': 1, 'filmed': 1, 'los': 1, 'angeles': 1, 'malibu': 1, 'followed': 1, 'two': 1, 'sequels': 1, 'ii': 1, '2002': 1, 'boa': 1, 'vs': 1, '2004': 1, 'also': 1})\n"
     ]
    }
   ],
   "source": [
    "tokens = get_tokens(text1)\n",
    "\n",
    "#移除停用詞\n",
    "filtered = [w for w in tokens if not w in stopwords.words('english')]\n",
    "\n",
    "#計數器\n",
    "count = Counter(filtered)\n",
    "print(\"結果顯示: \\n\", count)"
   ]
  },
  {
   "cell_type": "code",
   "execution_count": 20,
   "metadata": {},
   "outputs": [],
   "source": [
    "#有些字詞時態；單複數不同，但詞義相同 -->詞幹還原\n",
    "tokens = get_tokens(text1)\n",
    "filtered = [w for w in tokens if not w in stopwords.words('english')]\n",
    "stemmer = PorterStemmer()\n",
    "stemmed = stem_tokens(filtered, stemmer)"
   ]
  },
  {
   "cell_type": "code",
   "execution_count": 23,
   "metadata": {},
   "outputs": [],
   "source": [
    "def tf(word, count):\n",
    "    return count[word] / sum(count.values())\n",
    "def n_containing(word, count_list):\n",
    "    return sum(1 for count in count_list if word in count)\n",
    "def idf(word, count_list):\n",
    "    return math.log(len(count_list) / (n_containing(word, count_list)))\n",
    "def tfidf(word, count, count_list):\n",
    "    return tf(word, count) * idf(word, count_list)"
   ]
  },
  {
   "cell_type": "code",
   "execution_count": 32,
   "metadata": {},
   "outputs": [
    {
     "ename": "NameError",
     "evalue": "name 'count1' is not defined",
     "output_type": "error",
     "traceback": [
      "\u001b[1;31m---------------------------------------------------------------------------\u001b[0m",
      "\u001b[1;31mNameError\u001b[0m                                 Traceback (most recent call last)",
      "\u001b[1;32m<ipython-input-32-56dc28873c22>\u001b[0m in \u001b[0;36m<module>\u001b[1;34m\u001b[0m\n\u001b[1;32m----> 1\u001b[1;33m \u001b[0mcountlist\u001b[0m \u001b[1;33m=\u001b[0m \u001b[1;33m[\u001b[0m\u001b[0mcount1\u001b[0m\u001b[1;33m,\u001b[0m \u001b[0mcount2\u001b[0m\u001b[1;33m,\u001b[0m \u001b[0mcount3\u001b[0m\u001b[1;33m]\u001b[0m\u001b[1;33m\u001b[0m\u001b[1;33m\u001b[0m\u001b[0m\n\u001b[0m\u001b[0;32m      2\u001b[0m \u001b[1;32mfor\u001b[0m \u001b[0mi\u001b[0m\u001b[1;33m,\u001b[0m \u001b[0mcount\u001b[0m \u001b[1;32min\u001b[0m \u001b[0menumerate\u001b[0m\u001b[1;33m(\u001b[0m\u001b[0mcountlist\u001b[0m\u001b[1;33m)\u001b[0m\u001b[1;33m:\u001b[0m\u001b[1;33m\u001b[0m\u001b[1;33m\u001b[0m\u001b[0m\n\u001b[0;32m      3\u001b[0m     \u001b[0mprint\u001b[0m\u001b[1;33m(\u001b[0m\u001b[1;34m\"Top words in document {}\"\u001b[0m\u001b[1;33m.\u001b[0m\u001b[0mformat\u001b[0m\u001b[1;33m(\u001b[0m\u001b[0mi\u001b[0m\u001b[1;33m)\u001b[0m\u001b[1;33m)\u001b[0m\u001b[1;33m\u001b[0m\u001b[1;33m\u001b[0m\u001b[0m\n\u001b[0;32m      4\u001b[0m     \u001b[0mscores\u001b[0m \u001b[1;33m=\u001b[0m \u001b[1;33m{\u001b[0m\u001b[0mword\u001b[0m\u001b[1;33m:\u001b[0m \u001b[0mtfidf\u001b[0m\u001b[1;33m(\u001b[0m\u001b[0mword\u001b[0m\u001b[1;33m,\u001b[0m \u001b[0mcount\u001b[0m\u001b[1;33m,\u001b[0m \u001b[0mcountlist\u001b[0m\u001b[1;33m)\u001b[0m \u001b[1;32mfor\u001b[0m \u001b[0mword\u001b[0m \u001b[1;32min\u001b[0m \u001b[0mcount\u001b[0m\u001b[1;33m}\u001b[0m\u001b[1;33m\u001b[0m\u001b[1;33m\u001b[0m\u001b[0m\n\u001b[0;32m      5\u001b[0m     \u001b[0msorted_words\u001b[0m \u001b[1;33m=\u001b[0m \u001b[0msorted\u001b[0m\u001b[1;33m(\u001b[0m\u001b[0mscores\u001b[0m\u001b[1;33m.\u001b[0m\u001b[0mitems\u001b[0m\u001b[1;33m(\u001b[0m\u001b[1;33m)\u001b[0m\u001b[1;33m,\u001b[0m \u001b[0mkey\u001b[0m\u001b[1;33m=\u001b[0m\u001b[1;32mlambda\u001b[0m \u001b[0mx\u001b[0m\u001b[1;33m:\u001b[0m \u001b[0mx\u001b[0m\u001b[1;33m[\u001b[0m\u001b[1;36m1\u001b[0m\u001b[1;33m]\u001b[0m\u001b[1;33m,\u001b[0m \u001b[0mreverse\u001b[0m\u001b[1;33m=\u001b[0m\u001b[1;32mTrue\u001b[0m\u001b[1;33m)\u001b[0m\u001b[1;33m\u001b[0m\u001b[1;33m\u001b[0m\u001b[0m\n",
      "\u001b[1;31mNameError\u001b[0m: name 'count1' is not defined"
     ]
    }
   ],
   "source": [
    "countlist = [count1, count2, count3]\n",
    "for i, count in enumerate(countlist):\n",
    "    print(\"Top words in document {}\".format(i))\n",
    "    scores = {word: tfidf(word, count, countlist) for word in count}\n",
    "    sorted_words = sorted(scores.items(), key=lambda x: x[1], reverse=True)\n",
    "    for word, score in sorted_words[:3]:\n",
    "        print(\"\\tWord: {}, TF-IDF: {}\".format(word, round(score, 5)))"
   ]
  },
  {
   "cell_type": "code",
   "execution_count": null,
   "metadata": {},
   "outputs": [],
   "source": []
  }
 ],
 "metadata": {
  "kernelspec": {
   "display_name": "Python 3",
   "language": "python",
   "name": "python3"
  },
  "language_info": {
   "codemirror_mode": {
    "name": "ipython",
    "version": 3
   },
   "file_extension": ".py",
   "mimetype": "text/x-python",
   "name": "python",
   "nbconvert_exporter": "python",
   "pygments_lexer": "ipython3",
   "version": "3.8.5"
  }
 },
 "nbformat": 4,
 "nbformat_minor": 4
}
